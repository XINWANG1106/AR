{
  "nbformat": 4,
  "nbformat_minor": 0,
  "metadata": {
    "colab": {
      "provenance": [],
      "authorship_tag": "ABX9TyOuBfZ4+hyjRVNue4FcH1OD",
      "include_colab_link": true
    },
    "kernelspec": {
      "name": "python3",
      "display_name": "Python 3"
    },
    "language_info": {
      "name": "python"
    }
  },
  "cells": [
    {
      "cell_type": "markdown",
      "metadata": {
        "id": "view-in-github",
        "colab_type": "text"
      },
      "source": [
        "<a href=\"https://colab.research.google.com/github/XINWANG1106/AR/blob/main/Algorithmic_Right.ipynb\" target=\"_parent\"><img src=\"https://colab.research.google.com/assets/colab-badge.svg\" alt=\"Open In Colab\"/></a>"
      ]
    },
    {
      "cell_type": "code",
      "execution_count": null,
      "metadata": {
        "colab": {
          "base_uri": "https://localhost:8080/"
        },
        "id": "OxjtJhV0ZIWN",
        "outputId": "8c7b5a00-9b3d-4961-b4c8-3932c7d1259c"
      },
      "outputs": [
        {
          "output_type": "stream",
          "name": "stdout",
          "text": [
            "Welcome to the Algorithmic Rights Computability Verification Program!\n",
            "\n"
          ]
        }
      ],
      "source": [
        "\n",
        "# Define the set of algorithmic rights R\n",
        "rights = {\n",
        "    \"R_refuse\": \"Right to Refuse Algorithms\",\n",
        "    \"R_equal\": \"Right to Equal Treatment by Algorithms\",\n",
        "    \"R_explain\": \"Right to Request Algorithmic Explanation\",\n",
        "    \"R_remedy\": \"Right to Algorithmic Remedy\"\n",
        "}\n",
        "\n",
        "# Define the \"Algorithmic Right\" function AR\n",
        "def AR(subject, obligation_party, right_object, lifecycle_stage):\n",
        "    \"\"\"\n",
        "    Returns the corresponding algorithmic rights content P(R) based on the four input dimensions (S, O, A, L)\n",
        "    \"\"\"\n",
        "    # Normalize input\n",
        "    subject = subject.strip().lower()\n",
        "    obligation_party = obligation_party.strip().lower()\n",
        "    right_object = right_object.strip().lower()\n",
        "    lifecycle_stage = lifecycle_stage.strip().lower()\n",
        "\n",
        "    # In the design stage, algorithmic rights are limited\n",
        "    if lifecycle_stage == \"design stage\":\n",
        "        return [rights[\"R_equal\"], rights[\"R_remedy\"]]\n",
        "\n",
        "    # In the deployment, application, and regulation stages, all algorithmic rights apply\n",
        "    elif lifecycle_stage in [\"deployment stage\", \"application stage\", \"regulation stage\"]:\n",
        "        return [rights[\"R_refuse\"], rights[\"R_equal\"], rights[\"R_explain\"], rights[\"R_remedy\"]]\n",
        "\n",
        "    # If input conditions do not match, return no corresponding rights\n",
        "    return [\"No corresponding algorithmic rights\"]\n",
        "\n",
        "# Interactive input functionality\n",
        "def interactive_input():\n",
        "    print(\"Welcome to the Algorithmic Rights Computability Verification Program!\\n\")\n",
        "\n",
        "    # Get user input\n",
        "    subject = input(\"Please enter the algorithmic counterpart (Natural Person / Legal Person / Unincorporated Organization): \")\n",
        "    obligation_party = input(\"Please enter the duty bearer (Legal Person / Unincorporated Organization): \")\n",
        "    right_object = input(\"Please enter the right object (General Algorithm / Machine Learning): \")\n",
        "    lifecycle_stage = input(\"Please enter the algorithm lifecycle stage (Design Stage / Deployment Stage / Application Stage / Regulation Stage): \")\n",
        "\n",
        "    # Call the \"Algorithmic Right\" function AR and output the result\n",
        "    result = AR(subject, obligation_party, right_object, lifecycle_stage)\n",
        "    print(\"\\nThe algorithmic rights content enjoyed by the subject:\")\n",
        "    for right in result:\n",
        "        print(f\"- {right}\")\n",
        "\n",
        "# Run the interactive program\n",
        "interactive_input()"
      ]
    }
  ]
}