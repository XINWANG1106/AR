{
  "nbformat": 4,
  "nbformat_minor": 0,
  "metadata": {
    "colab": {
      "provenance": [],
      "authorship_tag": "ABX9TyNVm+P9VkRCBohbBLMH7PzL",
      "include_colab_link": true
    },
    "kernelspec": {
      "name": "python3",
      "display_name": "Python 3"
    },
    "language_info": {
      "name": "python"
    }
  },
  "cells": [
    {
      "cell_type": "markdown",
      "metadata": {
        "id": "view-in-github",
        "colab_type": "text"
      },
      "source": [
        "<a href=\"https://colab.research.google.com/github/XINWANG1106/AR/blob/main/TheAlgorithmic_Right.ipynb\" target=\"_parent\"><img src=\"https://colab.research.google.com/assets/colab-badge.svg\" alt=\"Open In Colab\"/></a>"
      ]
    },
    {
      "cell_type": "code",
      "execution_count": 1,
      "metadata": {
        "colab": {
          "base_uri": "https://localhost:8080/"
        },
        "id": "1oFugCuECZYY",
        "outputId": "50392333-7ba9-4161-c37b-309070411ca3"
      },
      "outputs": [
        {
          "output_type": "stream",
          "name": "stdout",
          "text": [
            "欢迎进入算法权利可计算性验证程序！\n",
            "\n",
            "请输入算法相对人（自然人 / 法人 / 非法人组织）：自然人\n",
            "请输入义务主体（法人 / 非法人组织）：法人\n",
            "请输入权利客体（一般算法 / 机器学习算法）：机器学习算法\n",
            "请输入算法生命周期的阶段（设计阶段 / 部署阶段 / 应用阶段 / 监管阶段）：应用阶段\n",
            "\n",
            "该权利主体享有的算法权利内容:\n",
            "- 算法拒绝权\n",
            "- 算法平等对待权\n",
            "- 算法解释请求权\n",
            "- 算法救济权\n",
            "由此可知，该算法权利概念具有可计算性，因为算法权利函数AR，能在有限步骤内根据 (S, O, A, L) 输出对应的权利集合 P(R)\n",
            "\n"
          ]
        }
      ],
      "source": [
        "# 第一步，定义AR函数中用到的权利内容集合R，这是函数的输出值。\n",
        "rights = {\n",
        "    \"R_refuse\": \"算法拒绝权\",\n",
        "    \"R_equal\": \"算法平等对待权\",\n",
        "    \"R_explain\": \"算法解释请求权\",\n",
        "    \"R_remedy\": \"算法救济权\"\n",
        "}\n",
        "\n",
        "# 第二步，定义“算法权利”函数AR，subject, obligation_party, right_object, lifecycle_stage是该函数的四个参数，分别表示算法相对人、义务主体、权利客体、算法生命周期。\n",
        "def AR(subject, obligation_party, right_object, lifecycle_stage):\n",
        "\n",
        "    # 注意：这部分的代码在于规范用户的输入行为，将用户在交互界面输入的大小写统一为小写，并去除前后多余空格。\n",
        "    subject = subject.strip().lower()\n",
        "    obligation_party = obligation_party.strip().lower()\n",
        "    right_object = right_object.strip().lower()\n",
        "    lifecycle_stage = lifecycle_stage.strip().lower()\n",
        "\n",
        "    # 第三步，法律逻辑：当算法还在设计阶段时，算法相对人只能主张“算法平等对待权” 和 “算法救济权”这两项权利。 算法逻辑：运用if-then规则来实现。\n",
        "    if lifecycle_stage == \"设计阶段\":\n",
        "        return [rights[\"R_equal\"], rights[\"R_remedy\"]]\n",
        "\n",
        "    # 第四步 法律逻辑：算法相对人在算法的部署、应用、监管阶段，享有完整的算法权利；如果不在前述阶段，则返回“无对应的算法权利\"算法逻辑：else if -then 规则。\n",
        "    elif lifecycle_stage in [\"部署阶段\", \"应用阶段\", \"监管阶段\"]:\n",
        "        return [rights[\"R_refuse\"], rights[\"R_equal\"], rights[\"R_explain\"], rights[\"R_remedy\"]]\n",
        "\n",
        "    # 如果输入条件不匹配，返回无对应的权利内容\n",
        "    return [\"无对应的算法权利\"]\n",
        "\n",
        "# 第五步：设置用户与该程序的交互界面。\n",
        "def interactive_input():\n",
        "\n",
        "\n",
        "\n",
        "    print(\"欢迎进入算法权利可计算性验证程序！\\n\")\n",
        "\n",
        "\n",
        "    # 获取用户输入\n",
        "    subject = input(\"请输入算法相对人（自然人 / 法人 / 非法人组织）：\")\n",
        "    obligation_party = input(\"请输入义务主体（法人 / 非法人组织）：\")\n",
        "    right_object = input(\"请输入权利客体（一般算法 / 机器学习算法）：\")\n",
        "    lifecycle_stage = input(\"请输入算法生命周期的阶段（设计阶段 / 部署阶段 / 应用阶段 / 监管阶段）：\")\n",
        "\n",
        "    # 调用“算法权利”函数 AR，并输出结果\n",
        "    result = AR(subject, obligation_party, right_object, lifecycle_stage)\n",
        "    print(\"\\n该权利主体享有的算法权利内容:\")\n",
        "    for right in result:\n",
        "        print(f\"- {right}\")\n",
        "\n",
        "    print(\"由此可知，该算法权利概念具有可计算性，因为算法权利函数AR，能在有限步骤内根据 (S, O, A, L) 输出对应的权利集合 P(R)\\n\")\n",
        "\n",
        "# 第六步 运行交互式程序的运行代码\n",
        "interactive_input()\n"
      ]
    }
  ]
}