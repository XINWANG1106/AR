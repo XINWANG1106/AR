{
  "nbformat": 4,
  "nbformat_minor": 0,
  "metadata": {
    "colab": {
      "provenance": [],
      "authorship_tag": "ABX9TyPiOvxkBwiFbDPGwaCBPa4o",
      "include_colab_link": true
    },
    "kernelspec": {
      "name": "python3",
      "display_name": "Python 3"
    },
    "language_info": {
      "name": "python"
    }
  },
  "cells": [
    {
      "cell_type": "markdown",
      "metadata": {
        "id": "view-in-github",
        "colab_type": "text"
      },
      "source": [
        "<a href=\"https://colab.research.google.com/github/XINWANG1106/AR/blob/main/%E6%BA%90%E4%BB%A3%E7%A0%81%E7%AE%97%E6%B3%95%E6%9D%83%E5%88%A9%E5%87%BD%E6%95%B0.ipynb\" target=\"_parent\"><img src=\"https://colab.research.google.com/assets/colab-badge.svg\" alt=\"Open In Colab\"/></a>"
      ]
    },
    {
      "cell_type": "code",
      "source": [
        "# 定义算法权利的集合 R\n",
        "rights = {\n",
        "    \"R_refuse\": \"算法拒绝权\",\n",
        "    \"R_equal\": \"算法平等对待权\",\n",
        "    \"R_explain\": \"算法解释请求权\",\n",
        "    \"R_remedy\": \"算法救济权\"\n",
        "}\n",
        "\n",
        "# 定义“算法权利”函数 AR\n",
        "def AR(subject, obligation_party, right_object, lifecycle_stage):\n",
        "    \"\"\"\n",
        "    根据输入的四个维度 (S, O, A, L) 返回相应的算法权利内容 P(R)\n",
        "    \"\"\"\n",
        "    # 标准化输入\n",
        "    subject = subject.strip().lower()\n",
        "    obligation_party = obligation_party.strip().lower()\n",
        "    right_object = right_object.strip().lower()\n",
        "    lifecycle_stage = lifecycle_stage.strip().lower()\n",
        "\n",
        "    # 在设计阶段，权利内容有所限制\n",
        "    if lifecycle_stage == \"设计阶段\":\n",
        "        return [rights[\"R_equal\"], rights[\"R_remedy\"]]\n",
        "\n",
        "    # 在部署、应用、监管阶段，享有所有权利\n",
        "    elif lifecycle_stage in [\"部署阶段\", \"应用阶段\", \"监管阶段\"]:\n",
        "        return [rights[\"R_refuse\"], rights[\"R_equal\"], rights[\"R_explain\"], rights[\"R_remedy\"]]\n",
        "\n",
        "    # 如果输入条件不匹配，返回无对应的权利\n",
        "    return [\"无对应的算法权利\"]\n",
        "\n",
        "# 交互式输入功能\n",
        "def interactive_input():\n",
        "    print(\"欢迎进入算法权利可计算性验证程序！\\n\")\n",
        "\n",
        "    # 获取用户输入\n",
        "    subject = input(\"请输入算法相对人（自然人 / 法人 / 非法人组织）：\")\n",
        "    obligation_party = input(\"请输入义务主体（法人 / 非法人组织）：\")\n",
        "    right_object = input(\"请输入权利客体（传统算法 / 机器学习）：\")\n",
        "    lifecycle_stage = input(\"请输入算法生命周期阶段（设计阶段 / 部署阶段 / 应用阶段 / 监管阶段）：\")\n",
        "\n",
        "    # 调用“算法权利”函数 AR，并输出结果\n",
        "    result = AR(subject, obligation_party, right_object, lifecycle_stage)\n",
        "    print(\"\\n该权利主体享有的算法权利内容:\")\n",
        "    for right in result:\n",
        "        print(f\"- {right}\")\n",
        "\n",
        "# 运行交互式程序\n",
        "interactive_input()\n"
      ],
      "metadata": {
        "colab": {
          "base_uri": "https://localhost:8080/"
        },
        "id": "cnMo6s7UYun3",
        "outputId": "ee0f1f20-c559-4ea3-ddca-4e70b9b7b15d"
      },
      "execution_count": 3,
      "outputs": [
        {
          "output_type": "stream",
          "name": "stdout",
          "text": [
            "欢迎进入算法权利可计算性验证程序！\n",
            "\n",
            "请输入算法相对人（自然人 / 法人 / 非法人组织）：法人\n",
            "请输入义务主体（法人 / 非法人组织）：法人\n",
            "请输入权利客体（传统算法 / 机器学习）：机器学习\n",
            "请输入算法生命周期阶段（设计阶段 / 部署阶段 / 应用阶段 / 监管阶段）：应用阶段\n",
            "\n",
            "该权利主体享有的算法权利内容:\n",
            "- 算法拒绝权\n",
            "- 算法平等对待权\n",
            "- 算法解释请求权\n",
            "- 算法救济权\n"
          ]
        }
      ]
    },
    {
      "cell_type": "code",
      "source": [],
      "metadata": {
        "id": "0im6NDRTnzwI"
      },
      "execution_count": null,
      "outputs": []
    }
  ]
}